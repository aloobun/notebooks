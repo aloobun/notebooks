{
 "cells": [
  {
   "cell_type": "code",
   "execution_count": 2,
   "metadata": {},
   "outputs": [],
   "source": [
    "import torch\n",
    "import torch.nn as nn\n",
    "import torch.optim as optim\n",
    "\n"
   ]
  },
  {
   "cell_type": "code",
   "execution_count": 6,
   "metadata": {},
   "outputs": [],
   "source": [
    "##Bradley TErry Model\n",
    "\n",
    "import torch\n",
    "import torch.nn as nn\n",
    "import torch.optim as optim\n",
    "class BTModel(nn.Module):\n",
    "    def __init__(self, N):\n",
    "        super(BTModel, self).__init__()\n",
    "        self.reward = nn.Parameter(torch.ones(N))\n",
    "        \n",
    "    def forward_exp(self, chosen_id, rejected_id):\n",
    "        reward_chosen = torch.exp(self.reward[chosen_id])\n",
    "        reward_rejected = torch.exp(self.reward[rejected_id])\n",
    "        return reward_chosen / (reward_chosen + reward_rejected)\n",
    "\n",
    "    def forward_sigmoid(self, chosen_id, rejected_id):\n",
    "        reward_chosen = self.reward[chosen_id]\n",
    "        reward_rejected = self.reward[rejected_id]\n",
    "        return torch.sigmoid(reward_chosen - reward_rejected)\n",
    "\n",
    "    def loss(self, pred, label):\n",
    "        return -torch.log(pred) if label == 1 else -torch.log(1 - pred)"
   ]
  },
  {
   "cell_type": "code",
   "execution_count": 7,
   "metadata": {},
   "outputs": [],
   "source": [
    "model = BTModel(N)\n",
    "datas = [(0, 1, 1), (2, 3, 1), (1, 3, 1)]\n",
    "optimizer = optim.SGD(model.parameters(), lr=0.01)"
   ]
  },
  {
   "cell_type": "code",
   "execution_count": 9,
   "metadata": {},
   "outputs": [
    {
     "name": "stdout",
     "output_type": "stream",
     "text": [
      "Epoch 0, Loss: 2.079441547393799\n",
      "Epoch 10, Loss: 1.937548816204071\n",
      "Epoch 20, Loss: 1.811079204082489\n",
      "Epoch 30, Loss: 1.6980656385421753\n",
      "Epoch 40, Loss: 1.5967631340026855\n",
      "Epoch 50, Loss: 1.5056480765342712\n",
      "Epoch 60, Loss: 1.4234036803245544\n",
      "Epoch 70, Loss: 1.3488986492156982\n",
      "Epoch 80, Loss: 1.281165212392807\n",
      "Epoch 90, Loss: 1.2193749248981476\n",
      "Parameter containing:\n",
      "tensor([1.4402, 0.9630, 1.3558, 0.2410, 1.0000], requires_grad=True)\n"
     ]
    }
   ],
   "source": [
    "loss_fn = nn.BCELoss()\n",
    "for i in range(100):\n",
    "    total_loss = 0\n",
    "    for data in datas:\n",
    "        id_i, id_j, label = data\n",
    "        optimizer.zero_grad()\n",
    "        pred = model.forward_sigmoid(id_i, id_j)\n",
    "        loss = model.loss(pred, torch.tensor(label, dtype=torch.float32))\n",
    "        loss.backward()\n",
    "        optimizer.step()\n",
    "\n",
    "        total_loss += loss.item()\n",
    "    if i%10==0 : print(f\"Epoch {i}, Loss: {total_loss}\")\n",
    "\n",
    "print(model.reward)"
   ]
  },
  {
   "cell_type": "code",
   "execution_count": null,
   "metadata": {},
   "outputs": [],
   "source": []
  }
 ],
 "metadata": {
  "kernelspec": {
   "display_name": "smalls",
   "language": "python",
   "name": "python3"
  },
  "language_info": {
   "codemirror_mode": {
    "name": "ipython",
    "version": 3
   },
   "file_extension": ".py",
   "mimetype": "text/x-python",
   "name": "python",
   "nbconvert_exporter": "python",
   "pygments_lexer": "ipython3",
   "version": "3.10.12"
  }
 },
 "nbformat": 4,
 "nbformat_minor": 2
}
